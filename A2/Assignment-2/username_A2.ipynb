{
 "cells": [
  {
   "cell_type": "markdown",
   "metadata": {},
   "source": [
    "# Assignment 2\n",
    "\n",
    "**name:**\n",
    "\n",
    "**email:**\n",
    "\n",
    "In this Assignment, you will use Python to handle several exercises related to gradient descent, linear regression, logistic regression, etc.\n",
    "All exercises are individual. \n",
    "We expect you to submit a Jupyter Notebook (i.e., pre-organized and provided through Moodle) and the .py files with the classes’ exercise implementations. \n",
    "Your submission should include all the datasets and files we need to run your programs (we will run your notebook). \n",
    "When grading your assignments, we will, in addition to functionality, also take into account code quality. \n",
    "We expect well-structured and efficient solutions.\n",
    "\n",
    "In this assignment, you must implement all models as subclasses of MachineLearning-\n",
    "Model. \n",
    "Since the class MachineLearningModel provides the abstract methods fit, predict,\n",
    "and evaluate, your implementations should provide implementations for such methods.\n",
    "Please check the documentation of MachineLearningModel to understand what these methods\n",
    "should do, as well as what their input parameters are and what they should return as results.\n",
    "You must also implement the classes DecisionBoundary, ROCAnalysis, and ForwardSelection\n",
    "provided to you. \n",
    "Please check their documentation to understand what these methods\n",
    "should do, what their input parameters are, and what they should return as results. All your\n",
    "implementations of such classes will be used throughout this assignment.\n",
    "\n",
    "## Lecture 2 - Linear and Polynomial Regression\n",
    "\n",
    "### Guidelines for model implementation (Mandatory)\n",
    "\n",
    "1. Implement a class **RegressionModelNormalEquation** that implements the abstract\n",
    "class **MachineLearningModel**. All methods should be implemented and properly documented.\n",
    "This class must work for polynomials of any degree (i.e., an input parameter that\n",
    "must be captured in the class constructor).\n",
    "\n",
    "2. Implement a class **RegressionModelGradientDescent** that implements the abstract\n",
    "class **MachineLearningModel**. All methods should be implemented and properly documented.\n",
    "This class must work for polynomials of any degree and receive other parameters\n",
    "such as the learning rate and number of iterations.\n",
    "\n",
    "3. Both implementations should be vectorized. When implementing these classes, your\n",
    "vector β should start with all values as 0. In implementing the fit() method, ensure\n",
    "you track how the cost function evolved over the number of iterations (i.e., store it in an\n",
    "array you can retrieve after the model is built). This will be needed later in the assignment.\n",
    "\n",
    "### Validation of your model implementation (1-4 Mandatory, 5-6 Non-mandatory)\n",
    "\n",
    "1. **(Mandatory)** In this part, you will use a reduced version of the Boston Housing Dataset (housingboston.csv). We will use the first two input variables as the features in this part of the assignment. The last variable is the value to predict.\n",
    "* **INDUS:** proportion of nonretail business acres per town.\n",
    "* **RM:** average number of rooms per dwelling.\n",
    "* **MEDV:** Median value of owner-occupied homes in $1,000s.\n",
    "\n",
    "Read the dataset and store the values as vectors in the variables $X_e$ and $y$. For this part of the assignment, the degree of the polynomial for your models must be 1."
   ]
  },
  {
   "cell_type": "code",
   "execution_count": 3,
   "metadata": {},
   "outputs": [],
   "source": [
    "#--- Write your code here ---#"
   ]
  },
  {
   "cell_type": "markdown",
   "metadata": {},
   "source": [
    "2. **(Mandatory)** Plot the dataset. You must plot two figures side by side (e g., use the subplot method), with the predicted value as the $y-axis$ and each variable on the $x-axis$. "
   ]
  },
  {
   "cell_type": "code",
   "execution_count": 2,
   "metadata": {},
   "outputs": [],
   "source": [
    "#--- Write your code here ---#"
   ]
  },
  {
   "cell_type": "markdown",
   "metadata": {},
   "source": [
    "3. **(Mandatory)** Use your implementation of the regression model with the normal equation (RegressionModelNormalEquation) and report:\n",
    "\n",
    "* The values for $\\beta$. \n",
    "\n",
    "* The cost.\n",
    "\n",
    "* The predicted value for an instance with values for INDUS and TAX equals to $,$, respectively.\n"
   ]
  },
  {
   "cell_type": "code",
   "execution_count": 4,
   "metadata": {},
   "outputs": [],
   "source": [
    "#--- Write your code here ---#"
   ]
  },
  {
   "cell_type": "markdown",
   "metadata": {},
   "source": [
    "4. **(Mandatory)** Now, normalize the input features, run the regression model with the normal equation, and report the same items. \n",
    "The predicted values for this experiment should be the same, but the $\\beta$ values change. Why?\n",
    "\n",
    "---- Your answers here ----"
   ]
  },
  {
   "cell_type": "code",
   "execution_count": 5,
   "metadata": {},
   "outputs": [],
   "source": [
    "#--- Write your code here ---#"
   ]
  },
  {
   "cell_type": "markdown",
   "metadata": {},
   "source": [
    "5. **(Non-Mandatory)** Now, you will work with your implementation of the gradient descent for any degree polynomial. In this part, you must compare how the cost function evolves by using your model using a non-normalized and a normalized instance of your RegressionModelGradientDescen class. \n",
    "    * You must plot two figures (e.g., use subplots) side by side to show how the cost evolves over 3000 iterations with a learning rate of $0.001$ using and not using feature normalization. \n",
    "    * Describe what is happening and why this happens (i.e., using or not normalization).        \n",
    "    \n",
    "\n",
    "---- Your answers here ----\n"
   ]
  },
  {
   "cell_type": "code",
   "execution_count": 6,
   "metadata": {},
   "outputs": [],
   "source": [
    "#--- Write your code here ---#"
   ]
  },
  {
   "cell_type": "markdown",
   "metadata": {},
   "source": [
    "6. **(Non-Mandatory)** Finally, find and plot a figure with the hyperparameter's learning rate and the number of iterations (using the normalized version) such that you get within a difference of 1\\% of the final cost for the normal equation using this dataset.\n",
    "\n",
    "--- Your answer here --- \n"
   ]
  },
  {
   "cell_type": "code",
   "execution_count": 7,
   "metadata": {},
   "outputs": [],
   "source": [
    "#--- Write your code here ---#"
   ]
  },
  {
   "cell_type": "markdown",
   "metadata": {},
   "source": [
    "## Lecture 2 - Testing your Multivariate Regression Model (1-2 Mandatory, 3 Non-mandatory)\n",
    "\n",
    "In this exercise, we will use the file secret_polynomial.csv. The data consists of 400 x, y points generated from a polynomial with some Gaussian noise added.\n",
    "\n",
    "1. **(Mandatory)** Start by creating a procedure to split the dataset into training and test sets. The proportion must be 80% for training and 20% for testing. Show your procedure working by plotting a figure with 3 subplots. The first plot must be the dataset with all data. The second must be the training set and the third the test set. \n"
   ]
  },
  {
   "cell_type": "code",
   "execution_count": 8,
   "metadata": {},
   "outputs": [],
   "source": [
    "#--- Write your code here ---#"
   ]
  },
  {
   "cell_type": "markdown",
   "metadata": {},
   "source": [
    "2. **(Mandatory)** Now fit and plot (e.g., using subplots) all polynomial models for degrees $d\\in [1,6]$. Observe your figure and decide which degree gives the best fit. Motivate your answer.\n",
    "\n",
    "--- Your answer here --- "
   ]
  },
  {
   "cell_type": "code",
   "execution_count": 9,
   "metadata": {},
   "outputs": [],
   "source": [
    "#--- Write your code here ---#"
   ]
  },
  {
   "cell_type": "markdown",
   "metadata": {},
   "source": [
    "3. **(Non-Mandatory)** To increase the confidence of your answer, you must divide the data into training and test sets and make repeated runs with shuffled data (at least 20 runs). You must decide on the best way to make this decision. By using this approach, what is your decision and why? \n",
    "\n",
    "--- Your answer here --- "
   ]
  },
  {
   "cell_type": "code",
   "execution_count": 10,
   "metadata": {},
   "outputs": [],
   "source": [
    "#--- Write your code here ---#"
   ]
  },
  {
   "cell_type": "markdown",
   "metadata": {},
   "source": [
    "## Lecture 3 - Logistic Regression\n",
    "\n",
    "### Guidelines for model implementation (Mandatory)\n",
    "\n",
    "1. Implement a class LogisticRegressionModel that implements the abstract class MachineLearningModel.\n",
    "All methods should be implemented and properly documented.\n",
    "This class receives parameters such as the learning rate and number of iterations. This\n",
    "class should be implemented in a way that works for two classes only (i.e., 0 or 1).\n",
    "\n",
    "2. Implement a class NonLinearLogisticRegressionModel that implements the abstract\n",
    "class MachineLearningModel. All methods should be implemented and properly documented.\n",
    "This class must work for polynomials of any degree and receive other parameters\n",
    "such as the learning rate and number of iterations. This class should work for only two\n",
    "input variables (e.g., X1 and X2, as discussed in class). This class should be implemented\n",
    "in a way that works for two classes only (i.e., 0 or 1).\n",
    "\n",
    "3. Both implementations should be vectorized. When implementing these classes, your vector\n",
    "β should start with all values as 0. In your implementation of the evaluate function, ensure\n",
    "you keep track of how the cost function evolved over the number of iterations. This will\n",
    "be needed later in the assignment.\n",
    "\n",
    "4. Remember that log(0) = undefined. Therefore, you may add a term epsilon = 1e-15 to\n",
    "prevent this in using the np.log() function. Simply add this term inside the function, and\n",
    "you will avoid such errors.\n",
    "\n",
    "### Using your Implementations for the LogisticRegressionModel and the NonLinearLogisticRegressionModel (1-3 Mandatory, 4-6 Non-mandatory)\n",
    "\n",
    "You will now try to classify bank notes as fake (0) or not (1). This dataset banknote_authentication.csv contains 1372 observations and has 2 features and (in column 3) binary labels of either fake (0) or not (1). Feature data were extracted using a Wavelet Transform tool from images of both fake and non-fake banknotes.\n",
    "\n",
    "1. **(Mandatory)** Read and normalize the data. Plot the 2 variables in the x and y-axis. Use different colors to plot the classes (i.e., 0 or 1). You should plot two series to obtain this figure.  "
   ]
  },
  {
   "cell_type": "code",
   "execution_count": 11,
   "metadata": {},
   "outputs": [],
   "source": [
    "#--- Write your code here ---#"
   ]
  },
  {
   "cell_type": "markdown",
   "metadata": {},
   "source": [
    "2. **(Mandatory)** Separate a validation set with 20\\% of the data. We will call the remaining 80\\% a sub-dataset."
   ]
  },
  {
   "cell_type": "code",
   "execution_count": 12,
   "metadata": {},
   "outputs": [],
   "source": [
    "#--- Write your code here ---#"
   ]
  },
  {
   "cell_type": "markdown",
   "metadata": {},
   "source": [
    "3. **(Mandatory)** Your task now is to decide on a learning rate and the number of iterations that would work well for your implementations of the LogisticRegression and your NonLinearLogisticRegression. The degree for the NonLinearLogisticRegression model must be 2. Create a figure for each model showing the learning rate and number of iterations and plot the cost function $J(\\beta)$ as a function over iterations. This approach must use the sub-dataset (the 80\\%) from step 2. Discuss your choice for an appropriate learning rate and the number of iterations.\n",
    "\n",
    "--- Your answer here --- \n",
    "\n"
   ]
  },
  {
   "cell_type": "code",
   "execution_count": 13,
   "metadata": {},
   "outputs": [],
   "source": [
    "#--- Write your code here ---#"
   ]
  },
  {
   "cell_type": "markdown",
   "metadata": {},
   "source": [
    "5. **(Non-Mandatory)** Repeat 20 times your experiments (i.e., using different seeds) with the decided learning rate and the number of iterations (step 2) using 20 different sub-datasets generated by your method from step 4. Report as a box-plot all accuracies (i.e., percentage of correct classifications) reported by each model in these 20 runs. Compare and discuss the two models. Are they qualitatively the same? Why?\n",
    "\n",
    "--- Your answer here --- "
   ]
  },
  {
   "cell_type": "code",
   "execution_count": 14,
   "metadata": {},
   "outputs": [],
   "source": [
    "#--- Write your code here ---#"
   ]
  },
  {
   "cell_type": "markdown",
   "metadata": {},
   "source": [
    "6. **(Non-Mandatory)** Now plot the decision boundary using a similar code to the one provided in class. You must plot the decision boundaries for the normalized data, use both models (LinearLogisticRegression and NonLinearLogisticRegression) and your choice of hyperparameters (step 3), totaling two figures. You must fit your model on the subdataset, but plot the validation dataset only in the figure.  The models that were fit are the ones to be used to create the decision boundary. Report also the accuracies for the two models.  Discuss your results (e.g., similarities, differences, etc) for accuracy and the decision boundary plots.\n",
    "\n",
    "--- Your answer here --- "
   ]
  },
  {
   "cell_type": "code",
   "execution_count": 15,
   "metadata": {},
   "outputs": [],
   "source": [
    "#--- Write your code here ---#"
   ]
  },
  {
   "cell_type": "markdown",
   "metadata": {},
   "source": [
    "## Lecture 4 - Model Selection and Regularization\n",
    "\n",
    "### Guidelines for model implementation (Mandatory)\n",
    "\n",
    "* Implement a class **ROCAnalysis** that calculates the metrics: TP-rate, FP-rate, precision, recall (i.e., same as tp-rate) and f-score.\n",
    "* Implement a class **ForwardSelection** that implements the feature forward selection algorithm seen in class. This process must use 80% (i.e., fitting the data) of the data for training the models and 20% (i.e., predicting in unseen data) for testing. This method should optimize your problem regarding the TP-rate metric. You must use your implementation of the **ROCAnalysis** class.\n",
    "\n",
    "For this exercise, you will use the *heart_disease_cleveland.csv* dataset. The dataset contains 13 numerical features, and the last feature is the target variable, which we have to predict. The value of 1 means the patient is suffering from heart disease, and 0 means the patient is normal.\n",
    "\n",
    "### Using your implementations of ROCAnalysis and ForwardSelection (All Mandatory)\n",
    "\n",
    "1. **(Mandatory)** Start by normalizing the data and separating a validation set with 20\\% of the data randomly selected. The remaining 80\\% will be called the sub-dataset."
   ]
  },
  {
   "cell_type": "code",
   "execution_count": null,
   "metadata": {},
   "outputs": [],
   "source": []
  },
  {
   "cell_type": "markdown",
   "metadata": {},
   "source": [
    "2. **(Mandatory)** Use your implementation of forward selection to estimate a reasonable classification model. You must use your implementation of Logistic Regression in this assignment. The decision to make a reasonable number of iterations and learning rate is up to you but must be justified. Optimize the model selection to produce the best f-score. You must use the sub-dataset in your forward selection process. Report the features selected by this process and discuss your results. \n",
    "\n",
    "--- Your answer here --- "
   ]
  },
  {
   "cell_type": "code",
   "execution_count": 16,
   "metadata": {},
   "outputs": [],
   "source": [
    "#--- Write your code here ---#"
   ]
  },
  {
   "cell_type": "markdown",
   "metadata": {},
   "source": [
    "3. **(Mandatory)** Report the performance of the best model in the validation set regarding all statistics available in your ROCAnalysis class. \n",
    "Was the process successful when compared to using all features?  \n",
    "Discuss your results regarding these metrics and what you can conclude from this experiment.\n",
    "\n",
    "--- Your answer here --- "
   ]
  },
  {
   "cell_type": "code",
   "execution_count": 17,
   "metadata": {},
   "outputs": [],
   "source": [
    "#--- Write your code here ---#"
   ]
  },
  {
   "cell_type": "markdown",
   "metadata": {},
   "source": [
    "## Lecture 5 - Neural Networks\n",
    "\n",
    "In this exercise you are allowed to use the scikit-learn package.\n",
    "\n",
    "**(Mandatory)** First, load the digits dataset using *sklearn.datasets.load_digits*. Split the data into training and test sets (e.g., 80/20 split using train_test_split). Finally, plot 16 random images from the dataset in a 4×4 grid using matplotlib, with their labels displayed."
   ]
  },
  {
   "cell_type": "code",
   "execution_count": null,
   "metadata": {},
   "outputs": [],
   "source": [
    "#--- Write your code here ---#"
   ]
  },
  {
   "cell_type": "markdown",
   "metadata": {},
   "source": [
    "**(Mandatory)** Use MLPClassifier from *sklearn.neural_network*. \n",
    "\n",
    "Train an MLP on the training set and evaluate on the test set.\n",
    "\n",
    "Then, use cross-validation (e.g., with GridSearchCV or cross_val_score) to explore:\n",
    "\n",
    "* Number and size of hidden layers\n",
    "\n",
    "* Activation functions: relu, tanh, logistic\n",
    "\n",
    "* Learning rate strategies: constant, adaptive\n",
    "\n",
    "* L2 regularization (alpha)\n",
    "\n",
    "* Solvers: adam, sgd\n",
    "\n",
    "\n",
    "Compare different configurations and choose the best-performing model.\n",
    "\n",
    "Report cross-validation scores and final test accuracy.\n",
    "\n",
    "--- Your answer here --- "
   ]
  },
  {
   "cell_type": "code",
   "execution_count": null,
   "metadata": {},
   "outputs": [],
   "source": [
    "#--- Write your code here ---#"
   ]
  },
  {
   "cell_type": "markdown",
   "metadata": {},
   "source": [
    "**(Non-mandatory)**  Plot the confusion matrix for your best model on the test set.\n",
    "\n",
    "Which digits are often confused?\n",
    "\n",
    "--- Your answer here --- \n"
   ]
  },
  {
   "cell_type": "code",
   "execution_count": null,
   "metadata": {},
   "outputs": [],
   "source": [
    "#--- Write your code here ---#"
   ]
  },
  {
   "cell_type": "markdown",
   "metadata": {},
   "source": [
    "**(Non-Mandatory)** Plot at least 10 misclassified images with predicted and true labels.\n",
    "\n",
    "Try to identify patterns in the errors (e.g., similar-looking digits).\n",
    "\n",
    "Are the misclassifications understandable for humans? Why or why not?\n",
    "\n",
    "--- Your answer here --- "
   ]
  },
  {
   "cell_type": "code",
   "execution_count": null,
   "metadata": {},
   "outputs": [],
   "source": [
    "#--- Write your code here ---#"
   ]
  },
  {
   "cell_type": "markdown",
   "metadata": {},
   "source": [
    "**(Non-Mandatory)** \n",
    "\n",
    "Plot training/validation accuracy or loss over epochs if you're capturing it (using verbose=True or tracking manually).\n",
    "\n",
    "How quickly does your model reach a stable accuracy or loss?\n",
    "\n",
    "Is the training accuracy much higher than the validation accuracy?\n",
    "\n",
    "Does the loss decrease on training but increase on validation?\n",
    "\n",
    "--- Your answer here --- "
   ]
  },
  {
   "cell_type": "code",
   "execution_count": null,
   "metadata": {},
   "outputs": [],
   "source": [
    "#--- Write your code here ---#"
   ]
  }
 ],
 "metadata": {
  "kernelspec": {
   "display_name": "ml-venv",
   "language": "python",
   "name": "python3"
  },
  "language_info": {
   "codemirror_mode": {
    "name": "ipython",
    "version": 3
   },
   "file_extension": ".py",
   "mimetype": "text/x-python",
   "name": "python",
   "nbconvert_exporter": "python",
   "pygments_lexer": "ipython3",
   "version": "3.11.5"
  }
 },
 "nbformat": 4,
 "nbformat_minor": 2
}
